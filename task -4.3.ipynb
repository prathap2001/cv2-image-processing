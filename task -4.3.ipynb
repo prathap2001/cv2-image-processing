{
 "cells": [
  {
   "cell_type": "markdown",
   "id": "e5ef12e0",
   "metadata": {},
   "source": [
    "# Task - 4.3"
   ]
  },
  {
   "cell_type": "code",
   "execution_count": 30,
   "id": "606ce17b",
   "metadata": {},
   "outputs": [],
   "source": [
    "import cv2"
   ]
  },
  {
   "cell_type": "code",
   "execution_count": 31,
   "id": "2503c0a0",
   "metadata": {},
   "outputs": [],
   "source": [
    "img1 = cv2.imread(r'cat-1.jpg',1)[0:600,0:600]"
   ]
  },
  {
   "cell_type": "code",
   "execution_count": 32,
   "id": "3851b766",
   "metadata": {},
   "outputs": [],
   "source": [
    "img2 = cv2.imread(r'cat-2.jpg',1)[0:600,0:600]"
   ]
  },
  {
   "cell_type": "code",
   "execution_count": 33,
   "id": "f31cf6f3",
   "metadata": {},
   "outputs": [],
   "source": [
    "import numpy as np"
   ]
  },
  {
   "cell_type": "code",
   "execution_count": 34,
   "id": "68c30774",
   "metadata": {},
   "outputs": [],
   "source": [
    "image = np.hstack((img1,img2))\n",
    "cv2.imshow('combine',image)\n",
    "cv2.waitKey()\n",
    "cv2.destroyAllWindows()"
   ]
  },
  {
   "cell_type": "code",
   "execution_count": 35,
   "id": "fdfabe69",
   "metadata": {},
   "outputs": [],
   "source": [
    "image = np.vstack((img1,img2))\n",
    "cv2.imshow('combine',image)\n",
    "cv2.waitKey()\n",
    "cv2.destroyAllWindows()"
   ]
  },
  {
   "cell_type": "code",
   "execution_count": null,
   "id": "c6494854",
   "metadata": {},
   "outputs": [],
   "source": []
  }
 ],
 "metadata": {
  "kernelspec": {
   "display_name": "Python 3",
   "language": "python",
   "name": "python3"
  },
  "language_info": {
   "codemirror_mode": {
    "name": "ipython",
    "version": 3
   },
   "file_extension": ".py",
   "mimetype": "text/x-python",
   "name": "python",
   "nbconvert_exporter": "python",
   "pygments_lexer": "ipython3",
   "version": "3.8.8"
  }
 },
 "nbformat": 4,
 "nbformat_minor": 5
}

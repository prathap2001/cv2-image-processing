{
 "cells": [
  {
   "cell_type": "markdown",
   "id": "72c1bd48",
   "metadata": {},
   "source": [
    "# task - 4.2\n"
   ]
  },
  {
   "cell_type": "code",
   "execution_count": 1,
   "id": "029174f2",
   "metadata": {},
   "outputs": [],
   "source": [
    "import cv2"
   ]
  },
  {
   "cell_type": "code",
   "execution_count": 2,
   "id": "2912fe2f",
   "metadata": {},
   "outputs": [],
   "source": [
    "img1 = cv2.imread(r'cat-1.jpg',1)"
   ]
  },
  {
   "cell_type": "code",
   "execution_count": 3,
   "id": "71c13c1d",
   "metadata": {},
   "outputs": [
    {
     "data": {
      "text/plain": [
       "(768, 1024, 3)"
      ]
     },
     "execution_count": 3,
     "metadata": {},
     "output_type": "execute_result"
    }
   ],
   "source": [
    "img1.shape"
   ]
  },
  {
   "cell_type": "code",
   "execution_count": 4,
   "id": "ee560a0b",
   "metadata": {},
   "outputs": [],
   "source": [
    "img2 = cv2.imread(r'cat-2.jpg',1)"
   ]
  },
  {
   "cell_type": "code",
   "execution_count": 5,
   "id": "f77e9b2b",
   "metadata": {},
   "outputs": [
    {
     "data": {
      "text/plain": [
       "(1024, 694, 3)"
      ]
     },
     "execution_count": 5,
     "metadata": {},
     "output_type": "execute_result"
    }
   ],
   "source": [
    "img2.shape"
   ]
  },
  {
   "cell_type": "code",
   "execution_count": 6,
   "id": "d3d78052",
   "metadata": {},
   "outputs": [],
   "source": [
    "crop1 = img1[60:280,200:650]\n",
    "img2[60:280,200:650] = crop1\n",
    "cv2.imshow('swap',img2)\n",
    "cv2.waitKey()\n",
    "cv2.destroyAllWindows()"
   ]
  },
  {
   "cell_type": "code",
   "execution_count": null,
   "id": "a0a76a6f",
   "metadata": {},
   "outputs": [],
   "source": []
  },
  {
   "cell_type": "code",
   "execution_count": null,
   "id": "2bba4536",
   "metadata": {},
   "outputs": [],
   "source": []
  }
 ],
 "metadata": {
  "kernelspec": {
   "display_name": "Python 3",
   "language": "python",
   "name": "python3"
  },
  "language_info": {
   "codemirror_mode": {
    "name": "ipython",
    "version": 3
   },
   "file_extension": ".py",
   "mimetype": "text/x-python",
   "name": "python",
   "nbconvert_exporter": "python",
   "pygments_lexer": "ipython3",
   "version": "3.8.8"
  }
 },
 "nbformat": 4,
 "nbformat_minor": 5
}
